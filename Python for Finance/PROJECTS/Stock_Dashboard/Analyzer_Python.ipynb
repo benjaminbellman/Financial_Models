{
 "cells": [
  {
   "cell_type": "markdown",
   "metadata": {},
   "source": [
    "# Project: Creating a Stock Dashboard"
   ]
  },
  {
   "cell_type": "markdown",
   "metadata": {},
   "source": [
    "## Analyzing Stocks with Python (Part 1)"
   ]
  },
  {
   "cell_type": "code",
   "execution_count": 1,
   "metadata": {},
   "outputs": [],
   "source": [
    "import pandas as pd\n",
    "import matplotlib.pyplot as plt\n",
    "from pandas_datareader import data \n",
    "import seaborn as sns\n",
    "from statsmodels.formula.api import ols\n",
    "plt.style.use(\"seaborn\")"
   ]
  },
  {
   "cell_type": "code",
   "execution_count": 2,
   "metadata": {},
   "outputs": [],
   "source": [
    "symbol = \"LHA.DE\"\n",
    "start = \"2010-01-01\"\n",
    "end = \"2020-06-30\"\n",
    "benchmark = \"^GDAXI\""
   ]
  },
  {
   "cell_type": "code",
   "execution_count": 3,
   "metadata": {
    "scrolled": true
   },
   "outputs": [
    {
     "data": {
      "text/html": [
       "<div>\n",
       "<style scoped>\n",
       "    .dataframe tbody tr th:only-of-type {\n",
       "        vertical-align: middle;\n",
       "    }\n",
       "\n",
       "    .dataframe tbody tr th {\n",
       "        vertical-align: top;\n",
       "    }\n",
       "\n",
       "    .dataframe thead tr th {\n",
       "        text-align: left;\n",
       "    }\n",
       "\n",
       "    .dataframe thead tr:last-of-type th {\n",
       "        text-align: right;\n",
       "    }\n",
       "</style>\n",
       "<table border=\"1\" class=\"dataframe\">\n",
       "  <thead>\n",
       "    <tr>\n",
       "      <th>Attributes</th>\n",
       "      <th colspan=\"2\" halign=\"left\">Adj Close</th>\n",
       "      <th colspan=\"2\" halign=\"left\">Close</th>\n",
       "      <th colspan=\"2\" halign=\"left\">High</th>\n",
       "      <th colspan=\"2\" halign=\"left\">Low</th>\n",
       "      <th colspan=\"2\" halign=\"left\">Open</th>\n",
       "      <th colspan=\"2\" halign=\"left\">Volume</th>\n",
       "    </tr>\n",
       "    <tr>\n",
       "      <th>Symbols</th>\n",
       "      <th>LHA.DE</th>\n",
       "      <th>^GDAXI</th>\n",
       "      <th>LHA.DE</th>\n",
       "      <th>^GDAXI</th>\n",
       "      <th>LHA.DE</th>\n",
       "      <th>^GDAXI</th>\n",
       "      <th>LHA.DE</th>\n",
       "      <th>^GDAXI</th>\n",
       "      <th>LHA.DE</th>\n",
       "      <th>^GDAXI</th>\n",
       "      <th>LHA.DE</th>\n",
       "      <th>^GDAXI</th>\n",
       "    </tr>\n",
       "    <tr>\n",
       "      <th>Date</th>\n",
       "      <th></th>\n",
       "      <th></th>\n",
       "      <th></th>\n",
       "      <th></th>\n",
       "      <th></th>\n",
       "      <th></th>\n",
       "      <th></th>\n",
       "      <th></th>\n",
       "      <th></th>\n",
       "      <th></th>\n",
       "      <th></th>\n",
       "      <th></th>\n",
       "    </tr>\n",
       "  </thead>\n",
       "  <tbody>\n",
       "    <tr>\n",
       "      <th>2010-01-04</th>\n",
       "      <td>9.711983</td>\n",
       "      <td>6048.299805</td>\n",
       "      <td>11.855</td>\n",
       "      <td>6048.299805</td>\n",
       "      <td>11.900</td>\n",
       "      <td>6048.299805</td>\n",
       "      <td>11.705</td>\n",
       "      <td>5974.430176</td>\n",
       "      <td>11.750</td>\n",
       "      <td>5975.520020</td>\n",
       "      <td>3162623.0</td>\n",
       "      <td>104344400.0</td>\n",
       "    </tr>\n",
       "    <tr>\n",
       "      <th>2010-01-05</th>\n",
       "      <td>9.830770</td>\n",
       "      <td>6031.859863</td>\n",
       "      <td>12.000</td>\n",
       "      <td>6031.859863</td>\n",
       "      <td>12.045</td>\n",
       "      <td>6058.020020</td>\n",
       "      <td>11.740</td>\n",
       "      <td>6015.669922</td>\n",
       "      <td>11.890</td>\n",
       "      <td>6043.939941</td>\n",
       "      <td>2817516.0</td>\n",
       "      <td>117572100.0</td>\n",
       "    </tr>\n",
       "    <tr>\n",
       "      <th>2010-01-06</th>\n",
       "      <td>9.953656</td>\n",
       "      <td>6034.330078</td>\n",
       "      <td>12.150</td>\n",
       "      <td>6034.330078</td>\n",
       "      <td>12.195</td>\n",
       "      <td>6047.569824</td>\n",
       "      <td>11.940</td>\n",
       "      <td>5997.089844</td>\n",
       "      <td>12.050</td>\n",
       "      <td>6032.390137</td>\n",
       "      <td>4449133.0</td>\n",
       "      <td>108742400.0</td>\n",
       "    </tr>\n",
       "    <tr>\n",
       "      <th>2010-01-07</th>\n",
       "      <td>10.088831</td>\n",
       "      <td>6019.359863</td>\n",
       "      <td>12.315</td>\n",
       "      <td>6019.359863</td>\n",
       "      <td>12.315</td>\n",
       "      <td>6037.569824</td>\n",
       "      <td>11.995</td>\n",
       "      <td>5961.250000</td>\n",
       "      <td>12.100</td>\n",
       "      <td>6016.799805</td>\n",
       "      <td>3145503.0</td>\n",
       "      <td>133704300.0</td>\n",
       "    </tr>\n",
       "    <tr>\n",
       "      <th>2010-01-08</th>\n",
       "      <td>10.383754</td>\n",
       "      <td>6037.609863</td>\n",
       "      <td>12.675</td>\n",
       "      <td>6037.609863</td>\n",
       "      <td>12.725</td>\n",
       "      <td>6053.040039</td>\n",
       "      <td>12.285</td>\n",
       "      <td>5972.240234</td>\n",
       "      <td>12.315</td>\n",
       "      <td>6028.620117</td>\n",
       "      <td>5206844.0</td>\n",
       "      <td>126099000.0</td>\n",
       "    </tr>\n",
       "    <tr>\n",
       "      <th>...</th>\n",
       "      <td>...</td>\n",
       "      <td>...</td>\n",
       "      <td>...</td>\n",
       "      <td>...</td>\n",
       "      <td>...</td>\n",
       "      <td>...</td>\n",
       "      <td>...</td>\n",
       "      <td>...</td>\n",
       "      <td>...</td>\n",
       "      <td>...</td>\n",
       "      <td>...</td>\n",
       "      <td>...</td>\n",
       "    </tr>\n",
       "    <tr>\n",
       "      <th>2020-06-25</th>\n",
       "      <td>9.592000</td>\n",
       "      <td>12177.870117</td>\n",
       "      <td>9.592</td>\n",
       "      <td>12177.870117</td>\n",
       "      <td>10.800</td>\n",
       "      <td>12236.459961</td>\n",
       "      <td>9.524</td>\n",
       "      <td>11957.309570</td>\n",
       "      <td>10.660</td>\n",
       "      <td>12102.250000</td>\n",
       "      <td>19580702.0</td>\n",
       "      <td>128245800.0</td>\n",
       "    </tr>\n",
       "    <tr>\n",
       "      <th>2020-06-26</th>\n",
       "      <td>8.994000</td>\n",
       "      <td>12089.389648</td>\n",
       "      <td>8.994</td>\n",
       "      <td>12089.389648</td>\n",
       "      <td>9.976</td>\n",
       "      <td>12347.450195</td>\n",
       "      <td>8.982</td>\n",
       "      <td>12060.889648</td>\n",
       "      <td>9.888</td>\n",
       "      <td>12308.480469</td>\n",
       "      <td>10626891.0</td>\n",
       "      <td>111965200.0</td>\n",
       "    </tr>\n",
       "    <tr>\n",
       "      <th>2020-06-29</th>\n",
       "      <td>9.012000</td>\n",
       "      <td>12232.120117</td>\n",
       "      <td>9.012</td>\n",
       "      <td>12232.120117</td>\n",
       "      <td>9.038</td>\n",
       "      <td>12297.679688</td>\n",
       "      <td>8.594</td>\n",
       "      <td>12045.259766</td>\n",
       "      <td>8.800</td>\n",
       "      <td>12090.410156</td>\n",
       "      <td>6991555.0</td>\n",
       "      <td>121308400.0</td>\n",
       "    </tr>\n",
       "    <tr>\n",
       "      <th>2020-06-30</th>\n",
       "      <td>8.942000</td>\n",
       "      <td>12310.929688</td>\n",
       "      <td>8.942</td>\n",
       "      <td>12310.929688</td>\n",
       "      <td>9.234</td>\n",
       "      <td>12350.349609</td>\n",
       "      <td>8.804</td>\n",
       "      <td>12188.089844</td>\n",
       "      <td>9.200</td>\n",
       "      <td>12287.940430</td>\n",
       "      <td>4464205.0</td>\n",
       "      <td>124633200.0</td>\n",
       "    </tr>\n",
       "    <tr>\n",
       "      <th>2020-07-01</th>\n",
       "      <td>8.830000</td>\n",
       "      <td>12260.570312</td>\n",
       "      <td>8.830</td>\n",
       "      <td>12260.570312</td>\n",
       "      <td>8.952</td>\n",
       "      <td>12391.719727</td>\n",
       "      <td>8.522</td>\n",
       "      <td>12095.110352</td>\n",
       "      <td>8.780</td>\n",
       "      <td>12391.719727</td>\n",
       "      <td>4324200.0</td>\n",
       "      <td>81131500.0</td>\n",
       "    </tr>\n",
       "  </tbody>\n",
       "</table>\n",
       "<p>2662 rows × 12 columns</p>\n",
       "</div>"
      ],
      "text/plain": [
       "Attributes  Adj Close                 Close                  High  \\\n",
       "Symbols        LHA.DE        ^GDAXI  LHA.DE        ^GDAXI  LHA.DE   \n",
       "Date                                                                \n",
       "2010-01-04   9.711983   6048.299805  11.855   6048.299805  11.900   \n",
       "2010-01-05   9.830770   6031.859863  12.000   6031.859863  12.045   \n",
       "2010-01-06   9.953656   6034.330078  12.150   6034.330078  12.195   \n",
       "2010-01-07  10.088831   6019.359863  12.315   6019.359863  12.315   \n",
       "2010-01-08  10.383754   6037.609863  12.675   6037.609863  12.725   \n",
       "...               ...           ...     ...           ...     ...   \n",
       "2020-06-25   9.592000  12177.870117   9.592  12177.870117  10.800   \n",
       "2020-06-26   8.994000  12089.389648   8.994  12089.389648   9.976   \n",
       "2020-06-29   9.012000  12232.120117   9.012  12232.120117   9.038   \n",
       "2020-06-30   8.942000  12310.929688   8.942  12310.929688   9.234   \n",
       "2020-07-01   8.830000  12260.570312   8.830  12260.570312   8.952   \n",
       "\n",
       "Attributes                   Low                  Open                \\\n",
       "Symbols           ^GDAXI  LHA.DE        ^GDAXI  LHA.DE        ^GDAXI   \n",
       "Date                                                                   \n",
       "2010-01-04   6048.299805  11.705   5974.430176  11.750   5975.520020   \n",
       "2010-01-05   6058.020020  11.740   6015.669922  11.890   6043.939941   \n",
       "2010-01-06   6047.569824  11.940   5997.089844  12.050   6032.390137   \n",
       "2010-01-07   6037.569824  11.995   5961.250000  12.100   6016.799805   \n",
       "2010-01-08   6053.040039  12.285   5972.240234  12.315   6028.620117   \n",
       "...                  ...     ...           ...     ...           ...   \n",
       "2020-06-25  12236.459961   9.524  11957.309570  10.660  12102.250000   \n",
       "2020-06-26  12347.450195   8.982  12060.889648   9.888  12308.480469   \n",
       "2020-06-29  12297.679688   8.594  12045.259766   8.800  12090.410156   \n",
       "2020-06-30  12350.349609   8.804  12188.089844   9.200  12287.940430   \n",
       "2020-07-01  12391.719727   8.522  12095.110352   8.780  12391.719727   \n",
       "\n",
       "Attributes      Volume               \n",
       "Symbols         LHA.DE       ^GDAXI  \n",
       "Date                                 \n",
       "2010-01-04   3162623.0  104344400.0  \n",
       "2010-01-05   2817516.0  117572100.0  \n",
       "2010-01-06   4449133.0  108742400.0  \n",
       "2010-01-07   3145503.0  133704300.0  \n",
       "2010-01-08   5206844.0  126099000.0  \n",
       "...                ...          ...  \n",
       "2020-06-25  19580702.0  128245800.0  \n",
       "2020-06-26  10626891.0  111965200.0  \n",
       "2020-06-29   6991555.0  121308400.0  \n",
       "2020-06-30   4464205.0  124633200.0  \n",
       "2020-07-01   4324200.0   81131500.0  \n",
       "\n",
       "[2662 rows x 12 columns]"
      ]
     },
     "execution_count": 3,
     "metadata": {},
     "output_type": "execute_result"
    }
   ],
   "source": [
    "data.DataReader(name = [symbol, benchmark], data_source = \"yahoo\", start = start, end = end)"
   ]
  },
  {
   "cell_type": "code",
   "execution_count": 4,
   "metadata": {},
   "outputs": [
    {
     "data": {
      "text/html": [
       "<div>\n",
       "<style scoped>\n",
       "    .dataframe tbody tr th:only-of-type {\n",
       "        vertical-align: middle;\n",
       "    }\n",
       "\n",
       "    .dataframe tbody tr th {\n",
       "        vertical-align: top;\n",
       "    }\n",
       "\n",
       "    .dataframe thead th {\n",
       "        text-align: right;\n",
       "    }\n",
       "</style>\n",
       "<table border=\"1\" class=\"dataframe\">\n",
       "  <thead>\n",
       "    <tr style=\"text-align: right;\">\n",
       "      <th>Symbols</th>\n",
       "      <th>LHA.DE</th>\n",
       "      <th>^GDAXI</th>\n",
       "    </tr>\n",
       "    <tr>\n",
       "      <th>Date</th>\n",
       "      <th></th>\n",
       "      <th></th>\n",
       "    </tr>\n",
       "  </thead>\n",
       "  <tbody>\n",
       "    <tr>\n",
       "      <th>2010-01-04</th>\n",
       "      <td>11.855</td>\n",
       "      <td>6048.299805</td>\n",
       "    </tr>\n",
       "    <tr>\n",
       "      <th>2010-01-05</th>\n",
       "      <td>12.000</td>\n",
       "      <td>6031.859863</td>\n",
       "    </tr>\n",
       "    <tr>\n",
       "      <th>2010-01-06</th>\n",
       "      <td>12.150</td>\n",
       "      <td>6034.330078</td>\n",
       "    </tr>\n",
       "    <tr>\n",
       "      <th>2010-01-07</th>\n",
       "      <td>12.315</td>\n",
       "      <td>6019.359863</td>\n",
       "    </tr>\n",
       "    <tr>\n",
       "      <th>2010-01-08</th>\n",
       "      <td>12.675</td>\n",
       "      <td>6037.609863</td>\n",
       "    </tr>\n",
       "    <tr>\n",
       "      <th>...</th>\n",
       "      <td>...</td>\n",
       "      <td>...</td>\n",
       "    </tr>\n",
       "    <tr>\n",
       "      <th>2020-06-25</th>\n",
       "      <td>9.592</td>\n",
       "      <td>12177.870117</td>\n",
       "    </tr>\n",
       "    <tr>\n",
       "      <th>2020-06-26</th>\n",
       "      <td>8.994</td>\n",
       "      <td>12089.389648</td>\n",
       "    </tr>\n",
       "    <tr>\n",
       "      <th>2020-06-29</th>\n",
       "      <td>9.012</td>\n",
       "      <td>12232.120117</td>\n",
       "    </tr>\n",
       "    <tr>\n",
       "      <th>2020-06-30</th>\n",
       "      <td>8.942</td>\n",
       "      <td>12310.929688</td>\n",
       "    </tr>\n",
       "    <tr>\n",
       "      <th>2020-07-01</th>\n",
       "      <td>8.830</td>\n",
       "      <td>12260.570312</td>\n",
       "    </tr>\n",
       "  </tbody>\n",
       "</table>\n",
       "<p>2662 rows × 2 columns</p>\n",
       "</div>"
      ],
      "text/plain": [
       "Symbols     LHA.DE        ^GDAXI\n",
       "Date                            \n",
       "2010-01-04  11.855   6048.299805\n",
       "2010-01-05  12.000   6031.859863\n",
       "2010-01-06  12.150   6034.330078\n",
       "2010-01-07  12.315   6019.359863\n",
       "2010-01-08  12.675   6037.609863\n",
       "...            ...           ...\n",
       "2020-06-25   9.592  12177.870117\n",
       "2020-06-26   8.994  12089.389648\n",
       "2020-06-29   9.012  12232.120117\n",
       "2020-06-30   8.942  12310.929688\n",
       "2020-07-01   8.830  12260.570312\n",
       "\n",
       "[2662 rows x 2 columns]"
      ]
     },
     "execution_count": 4,
     "metadata": {},
     "output_type": "execute_result"
    }
   ],
   "source": [
    "df = data.DataReader(name = [symbol, benchmark], data_source = \"yahoo\", start = start, end = end).Close\n",
    "df"
   ]
  },
  {
   "cell_type": "code",
   "execution_count": 6,
   "metadata": {},
   "outputs": [],
   "source": [
    "df.dropna(inplace= True)"
   ]
  },
  {
   "cell_type": "code",
   "execution_count": 5,
   "metadata": {},
   "outputs": [
    {
     "data": {
      "text/plain": [
       "'GDAXI'"
      ]
     },
     "execution_count": 5,
     "metadata": {},
     "output_type": "execute_result"
    }
   ],
   "source": [
    "benchmark.replace(\"^\", \"\")"
   ]
  },
  {
   "cell_type": "code",
   "execution_count": 7,
   "metadata": {},
   "outputs": [],
   "source": [
    "df.rename(columns = {benchmark:benchmark.replace(\"^\", \"\")}, inplace = True)"
   ]
  },
  {
   "cell_type": "code",
   "execution_count": 8,
   "metadata": {},
   "outputs": [
    {
     "data": {
      "text/html": [
       "<div>\n",
       "<style scoped>\n",
       "    .dataframe tbody tr th:only-of-type {\n",
       "        vertical-align: middle;\n",
       "    }\n",
       "\n",
       "    .dataframe tbody tr th {\n",
       "        vertical-align: top;\n",
       "    }\n",
       "\n",
       "    .dataframe thead th {\n",
       "        text-align: right;\n",
       "    }\n",
       "</style>\n",
       "<table border=\"1\" class=\"dataframe\">\n",
       "  <thead>\n",
       "    <tr style=\"text-align: right;\">\n",
       "      <th>Symbols</th>\n",
       "      <th>LHA.DE</th>\n",
       "      <th>GDAXI</th>\n",
       "    </tr>\n",
       "    <tr>\n",
       "      <th>Date</th>\n",
       "      <th></th>\n",
       "      <th></th>\n",
       "    </tr>\n",
       "  </thead>\n",
       "  <tbody>\n",
       "    <tr>\n",
       "      <th>2010-01-04</th>\n",
       "      <td>11.855</td>\n",
       "      <td>6048.299805</td>\n",
       "    </tr>\n",
       "    <tr>\n",
       "      <th>2010-01-05</th>\n",
       "      <td>12.000</td>\n",
       "      <td>6031.859863</td>\n",
       "    </tr>\n",
       "    <tr>\n",
       "      <th>2010-01-06</th>\n",
       "      <td>12.150</td>\n",
       "      <td>6034.330078</td>\n",
       "    </tr>\n",
       "    <tr>\n",
       "      <th>2010-01-07</th>\n",
       "      <td>12.315</td>\n",
       "      <td>6019.359863</td>\n",
       "    </tr>\n",
       "    <tr>\n",
       "      <th>2010-01-08</th>\n",
       "      <td>12.675</td>\n",
       "      <td>6037.609863</td>\n",
       "    </tr>\n",
       "    <tr>\n",
       "      <th>...</th>\n",
       "      <td>...</td>\n",
       "      <td>...</td>\n",
       "    </tr>\n",
       "    <tr>\n",
       "      <th>2020-06-25</th>\n",
       "      <td>9.592</td>\n",
       "      <td>12177.870117</td>\n",
       "    </tr>\n",
       "    <tr>\n",
       "      <th>2020-06-26</th>\n",
       "      <td>8.994</td>\n",
       "      <td>12089.389648</td>\n",
       "    </tr>\n",
       "    <tr>\n",
       "      <th>2020-06-29</th>\n",
       "      <td>9.012</td>\n",
       "      <td>12232.120117</td>\n",
       "    </tr>\n",
       "    <tr>\n",
       "      <th>2020-06-30</th>\n",
       "      <td>8.942</td>\n",
       "      <td>12310.929688</td>\n",
       "    </tr>\n",
       "    <tr>\n",
       "      <th>2020-07-01</th>\n",
       "      <td>8.830</td>\n",
       "      <td>12260.570312</td>\n",
       "    </tr>\n",
       "  </tbody>\n",
       "</table>\n",
       "<p>2657 rows × 2 columns</p>\n",
       "</div>"
      ],
      "text/plain": [
       "Symbols     LHA.DE         GDAXI\n",
       "Date                            \n",
       "2010-01-04  11.855   6048.299805\n",
       "2010-01-05  12.000   6031.859863\n",
       "2010-01-06  12.150   6034.330078\n",
       "2010-01-07  12.315   6019.359863\n",
       "2010-01-08  12.675   6037.609863\n",
       "...            ...           ...\n",
       "2020-06-25   9.592  12177.870117\n",
       "2020-06-26   8.994  12089.389648\n",
       "2020-06-29   9.012  12232.120117\n",
       "2020-06-30   8.942  12310.929688\n",
       "2020-07-01   8.830  12260.570312\n",
       "\n",
       "[2657 rows x 2 columns]"
      ]
     },
     "execution_count": 8,
     "metadata": {},
     "output_type": "execute_result"
    }
   ],
   "source": [
    "df"
   ]
  },
  {
   "cell_type": "code",
   "execution_count": null,
   "metadata": {},
   "outputs": [],
   "source": [
    "benchmark = benchmark.replace(\"^\", \"\")\n",
    "benchmark"
   ]
  },
  {
   "cell_type": "code",
   "execution_count": 10,
   "metadata": {},
   "outputs": [],
   "source": [
    "df.rename(columns={symbol: symbol.split(\".\")[0]}, inplace = True)"
   ]
  },
  {
   "cell_type": "code",
   "execution_count": 11,
   "metadata": {},
   "outputs": [
    {
     "data": {
      "text/html": [
       "<div>\n",
       "<style scoped>\n",
       "    .dataframe tbody tr th:only-of-type {\n",
       "        vertical-align: middle;\n",
       "    }\n",
       "\n",
       "    .dataframe tbody tr th {\n",
       "        vertical-align: top;\n",
       "    }\n",
       "\n",
       "    .dataframe thead th {\n",
       "        text-align: right;\n",
       "    }\n",
       "</style>\n",
       "<table border=\"1\" class=\"dataframe\">\n",
       "  <thead>\n",
       "    <tr style=\"text-align: right;\">\n",
       "      <th>Symbols</th>\n",
       "      <th>LHA</th>\n",
       "      <th>GDAXI</th>\n",
       "    </tr>\n",
       "    <tr>\n",
       "      <th>Date</th>\n",
       "      <th></th>\n",
       "      <th></th>\n",
       "    </tr>\n",
       "  </thead>\n",
       "  <tbody>\n",
       "    <tr>\n",
       "      <th>2010-01-04</th>\n",
       "      <td>11.855</td>\n",
       "      <td>6048.299805</td>\n",
       "    </tr>\n",
       "    <tr>\n",
       "      <th>2010-01-05</th>\n",
       "      <td>12.000</td>\n",
       "      <td>6031.859863</td>\n",
       "    </tr>\n",
       "    <tr>\n",
       "      <th>2010-01-06</th>\n",
       "      <td>12.150</td>\n",
       "      <td>6034.330078</td>\n",
       "    </tr>\n",
       "    <tr>\n",
       "      <th>2010-01-07</th>\n",
       "      <td>12.315</td>\n",
       "      <td>6019.359863</td>\n",
       "    </tr>\n",
       "    <tr>\n",
       "      <th>2010-01-08</th>\n",
       "      <td>12.675</td>\n",
       "      <td>6037.609863</td>\n",
       "    </tr>\n",
       "    <tr>\n",
       "      <th>...</th>\n",
       "      <td>...</td>\n",
       "      <td>...</td>\n",
       "    </tr>\n",
       "    <tr>\n",
       "      <th>2020-06-25</th>\n",
       "      <td>9.592</td>\n",
       "      <td>12177.870117</td>\n",
       "    </tr>\n",
       "    <tr>\n",
       "      <th>2020-06-26</th>\n",
       "      <td>8.994</td>\n",
       "      <td>12089.389648</td>\n",
       "    </tr>\n",
       "    <tr>\n",
       "      <th>2020-06-29</th>\n",
       "      <td>9.012</td>\n",
       "      <td>12232.120117</td>\n",
       "    </tr>\n",
       "    <tr>\n",
       "      <th>2020-06-30</th>\n",
       "      <td>8.942</td>\n",
       "      <td>12310.929688</td>\n",
       "    </tr>\n",
       "    <tr>\n",
       "      <th>2020-07-01</th>\n",
       "      <td>8.830</td>\n",
       "      <td>12260.570312</td>\n",
       "    </tr>\n",
       "  </tbody>\n",
       "</table>\n",
       "<p>2657 rows × 2 columns</p>\n",
       "</div>"
      ],
      "text/plain": [
       "Symbols        LHA         GDAXI\n",
       "Date                            \n",
       "2010-01-04  11.855   6048.299805\n",
       "2010-01-05  12.000   6031.859863\n",
       "2010-01-06  12.150   6034.330078\n",
       "2010-01-07  12.315   6019.359863\n",
       "2010-01-08  12.675   6037.609863\n",
       "...            ...           ...\n",
       "2020-06-25   9.592  12177.870117\n",
       "2020-06-26   8.994  12089.389648\n",
       "2020-06-29   9.012  12232.120117\n",
       "2020-06-30   8.942  12310.929688\n",
       "2020-07-01   8.830  12260.570312\n",
       "\n",
       "[2657 rows x 2 columns]"
      ]
     },
     "execution_count": 11,
     "metadata": {},
     "output_type": "execute_result"
    }
   ],
   "source": [
    "df"
   ]
  },
  {
   "cell_type": "code",
   "execution_count": 13,
   "metadata": {},
   "outputs": [
    {
     "data": {
      "text/plain": [
       "'LHA'"
      ]
     },
     "execution_count": 13,
     "metadata": {},
     "output_type": "execute_result"
    }
   ],
   "source": [
    "symbol = symbol.split(\".\")[0]\n",
    "symbol"
   ]
  },
  {
   "cell_type": "code",
   "execution_count": null,
   "metadata": {},
   "outputs": [],
   "source": [
    "plt.figure(figsize = (12, 8))\n",
    "df[symbol].plot(fontsize = 12)\n",
    "plt.show()"
   ]
  },
  {
   "cell_type": "code",
   "execution_count": null,
   "metadata": {},
   "outputs": [],
   "source": [
    "first = df.iloc[0, 0]\n",
    "first"
   ]
  },
  {
   "cell_type": "code",
   "execution_count": null,
   "metadata": {},
   "outputs": [],
   "source": [
    "high = df.iloc[:,0].max()\n",
    "high"
   ]
  },
  {
   "cell_type": "code",
   "execution_count": null,
   "metadata": {},
   "outputs": [],
   "source": [
    "low = df.iloc[:,0].min()\n",
    "low"
   ]
  },
  {
   "cell_type": "code",
   "execution_count": null,
   "metadata": {},
   "outputs": [],
   "source": [
    "last = df.iloc[-1, 0]\n",
    "last"
   ]
  },
  {
   "cell_type": "code",
   "execution_count": null,
   "metadata": {},
   "outputs": [],
   "source": [
    "total_change = last / first - 1\n",
    "total_change"
   ]
  },
  {
   "cell_type": "code",
   "execution_count": null,
   "metadata": {},
   "outputs": [],
   "source": []
  },
  {
   "cell_type": "markdown",
   "metadata": {},
   "source": [
    "## Analyzing Stocks with Python (Part 2)"
   ]
  },
  {
   "cell_type": "code",
   "execution_count": null,
   "metadata": {},
   "outputs": [],
   "source": [
    "df"
   ]
  },
  {
   "cell_type": "code",
   "execution_count": null,
   "metadata": {},
   "outputs": [],
   "source": [
    "plt.figure(figsize = (12, 8))\n",
    "df[symbol].plot(fontsize = 12)\n",
    "df[benchmark].plot(fontsize = 12)\n",
    "plt.show()"
   ]
  },
  {
   "cell_type": "markdown",
   "metadata": {},
   "source": [
    "## This normalizes our data so that it becomes on par. It starts with everything at index 1. "
   ]
  },
  {
   "cell_type": "code",
   "execution_count": null,
   "metadata": {},
   "outputs": [],
   "source": [
    "norm = df.div(df.iloc[0]).mul(100)\n",
    "norm"
   ]
  },
  {
   "cell_type": "code",
   "execution_count": null,
   "metadata": {},
   "outputs": [],
   "source": [
    "plt.figure(figsize = (12, 8))\n",
    "norm[symbol].plot(fontsize = 12)\n",
    "norm[benchmark].plot(fontsize = 12)\n",
    "plt.legend(fontsize = 15)\n",
    "plt.show()"
   ]
  },
  {
   "cell_type": "code",
   "execution_count": null,
   "metadata": {},
   "outputs": [],
   "source": [
    "df.pct_change().dropna() #calculate daily returns ## We do the .dropna() because weekends and holidays are bank holidays and there is no trading. "
   ]
  },
  {
   "cell_type": "markdown",
   "metadata": {},
   "source": [
    "### This is to get the closing by end of each  month"
   ]
  },
  {
   "cell_type": "code",
   "execution_count": null,
   "metadata": {},
   "outputs": [],
   "source": [
    "df.resample(\"M\").last()#.dropna() #determine frequency"
   ]
  },
  {
   "cell_type": "code",
   "execution_count": null,
   "metadata": {},
   "outputs": [],
   "source": [
    "df.resample(\"D\").last().dropna() #determine frequency"
   ]
  },
  {
   "cell_type": "code",
   "execution_count": null,
   "metadata": {},
   "outputs": [],
   "source": [
    "df.resample(\"M\").last().dropna().pct_change().dropna() #calc daily/weekly/etc. returns"
   ]
  },
  {
   "cell_type": "code",
   "execution_count": null,
   "metadata": {},
   "outputs": [],
   "source": [
    "df.resample(\"Q\").last().dropna().pct_change().dropna() #calc daily/weekly/etc. returns"
   ]
  },
  {
   "cell_type": "code",
   "execution_count": null,
   "metadata": {},
   "outputs": [],
   "source": [
    "ret  = df.resample(\"D\").last().dropna().pct_change().dropna() #daily returns\n",
    "ret"
   ]
  },
  {
   "cell_type": "code",
   "execution_count": null,
   "metadata": {},
   "outputs": [],
   "source": [
    "ret.corr()#.iloc[0, 1]"
   ]
  },
  {
   "cell_type": "code",
   "execution_count": null,
   "metadata": {},
   "outputs": [],
   "source": [
    "ret.corr().iloc[0, 1]"
   ]
  },
  {
   "cell_type": "markdown",
   "metadata": {},
   "source": [
    "## Analyzing Stocks with Python (Part 3)"
   ]
  },
  {
   "cell_type": "code",
   "execution_count": null,
   "metadata": {},
   "outputs": [],
   "source": [
    "sns.regplot(data = ret, x = benchmark, y = symbol)\n",
    "plt.show()"
   ]
  },
  {
   "cell_type": "code",
   "execution_count": null,
   "metadata": {},
   "outputs": [],
   "source": [
    "#ols(\"MSFT ~ DJI\", data = ret)"
   ]
  },
  {
   "cell_type": "code",
   "execution_count": null,
   "metadata": {},
   "outputs": [],
   "source": [
    "symbol + \"~\" + benchmark"
   ]
  },
  {
   "cell_type": "code",
   "execution_count": null,
   "metadata": {},
   "outputs": [],
   "source": [
    "model = ols(symbol + \"~\" + benchmark, data = ret)"
   ]
  },
  {
   "cell_type": "code",
   "execution_count": null,
   "metadata": {},
   "outputs": [],
   "source": [
    "results = model.fit()"
   ]
  },
  {
   "cell_type": "code",
   "execution_count": null,
   "metadata": {
    "scrolled": false
   },
   "outputs": [],
   "source": [
    "print(results.summary())"
   ]
  },
  {
   "cell_type": "code",
   "execution_count": null,
   "metadata": {},
   "outputs": [],
   "source": [
    "results.params"
   ]
  },
  {
   "cell_type": "code",
   "execution_count": null,
   "metadata": {},
   "outputs": [],
   "source": [
    "beta = results.params[1]\n",
    "beta"
   ]
  },
  {
   "cell_type": "code",
   "execution_count": null,
   "metadata": {},
   "outputs": [],
   "source": [
    "results.rsquared"
   ]
  },
  {
   "cell_type": "code",
   "execution_count": null,
   "metadata": {},
   "outputs": [],
   "source": [
    "results.tvalues"
   ]
  },
  {
   "cell_type": "code",
   "execution_count": null,
   "metadata": {},
   "outputs": [],
   "source": [
    "round(results.pvalues, 5)"
   ]
  },
  {
   "cell_type": "code",
   "execution_count": null,
   "metadata": {},
   "outputs": [],
   "source": [
    "results.conf_int()"
   ]
  },
  {
   "cell_type": "code",
   "execution_count": null,
   "metadata": {},
   "outputs": [],
   "source": []
  }
 ],
 "metadata": {
  "kernelspec": {
   "display_name": "Python 3",
   "language": "python",
   "name": "python3"
  },
  "language_info": {
   "codemirror_mode": {
    "name": "ipython",
    "version": 3
   },
   "file_extension": ".py",
   "mimetype": "text/x-python",
   "name": "python",
   "nbconvert_exporter": "python",
   "pygments_lexer": "ipython3",
   "version": "3.8.3"
  }
 },
 "nbformat": 4,
 "nbformat_minor": 4
}

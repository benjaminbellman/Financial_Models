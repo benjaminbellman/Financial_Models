{
 "cells": [
  {
   "cell_type": "markdown",
   "metadata": {},
   "source": [
    "# Project: Creating a Stock Dashboard"
   ]
  },
  {
   "cell_type": "markdown",
   "metadata": {},
   "source": [
    "## Analyzing Stocks with Python and xlwings"
   ]
  },
  {
   "cell_type": "code",
   "execution_count": null,
   "metadata": {},
   "outputs": [],
   "source": [
    "import xlwings as xw\n",
    "import pandas as pd\n",
    "import matplotlib.pyplot as plt\n",
    "from pandas_datareader import data \n",
    "import seaborn as sns\n",
    "from statsmodels.formula.api import ols\n",
    "plt.style.use(\"seaborn\")"
   ]
  },
  {
   "cell_type": "code",
   "execution_count": null,
   "metadata": {},
   "outputs": [],
   "source": [
    "wb = xw.Book(\"Stocks.xlsx\")"
   ]
  },
  {
   "cell_type": "code",
   "execution_count": null,
   "metadata": {},
   "outputs": [],
   "source": [
    "db_s = wb.sheets[0]\n",
    "prices_s = wb.sheets[1]"
   ]
  },
  {
   "cell_type": "code",
   "execution_count": null,
   "metadata": {},
   "outputs": [],
   "source": [
    "symbol = db_s.range(\"C7\").value\n",
    "start = db_s.range(\"F7\").value\n",
    "end = db_s.range(\"I7\").value\n",
    "benchmark = db_s.range(\"K20\").value\n",
    "freq = db_s.range(\"K39\").value"
   ]
  },
  {
   "cell_type": "code",
   "execution_count": null,
   "metadata": {},
   "outputs": [],
   "source": [
    "print(symbol, start, end, benchmark, freq, sep = \"|\")"
   ]
  },
  {
   "cell_type": "code",
   "execution_count": null,
   "metadata": {},
   "outputs": [],
   "source": [
    "df = data.DataReader(name = [symbol, benchmark], data_source = \"yahoo\", start = start, end = end).Close\n",
    "df"
   ]
  },
  {
   "cell_type": "code",
   "execution_count": null,
   "metadata": {},
   "outputs": [],
   "source": [
    "df.rename(columns = {benchmark:benchmark.replace(\"^\", \"\")}, inplace = True)"
   ]
  },
  {
   "cell_type": "code",
   "execution_count": null,
   "metadata": {},
   "outputs": [],
   "source": [
    "df"
   ]
  },
  {
   "cell_type": "code",
   "execution_count": null,
   "metadata": {},
   "outputs": [],
   "source": [
    "benchmark = benchmark.replace(\"^\", \"\")\n",
    "benchmark"
   ]
  },
  {
   "cell_type": "code",
   "execution_count": null,
   "metadata": {},
   "outputs": [],
   "source": [
    "chart = plt.figure(figsize = (19, 8))\n",
    "df[symbol].plot(fontsize = 15)\n",
    "plt.title(symbol, fontsize = 20)\n",
    "plt.xlabel(\"Date\", fontsize = 15)\n",
    "plt.ylabel(\"Stock Price\", fontsize = 15)\n",
    "plt.show()"
   ]
  },
  {
   "cell_type": "code",
   "execution_count": null,
   "metadata": {},
   "outputs": [],
   "source": [
    "db_s.pictures.add(chart, name = \"Chart\", update = True, \n",
    "                   left = db_s.range(\"C8\").left, \n",
    "                   top = db_s.range(\"C8\").top,\n",
    "                   scale = 0.47)"
   ]
  },
  {
   "cell_type": "code",
   "execution_count": null,
   "metadata": {},
   "outputs": [],
   "source": [
    "first = df.iloc[0,0]\n",
    "first"
   ]
  },
  {
   "cell_type": "code",
   "execution_count": null,
   "metadata": {},
   "outputs": [],
   "source": [
    "high = df.iloc[:, 0].max()\n",
    "high"
   ]
  },
  {
   "cell_type": "code",
   "execution_count": null,
   "metadata": {},
   "outputs": [],
   "source": [
    "low = df.iloc[:, 0].min()\n",
    "low"
   ]
  },
  {
   "cell_type": "code",
   "execution_count": null,
   "metadata": {},
   "outputs": [],
   "source": [
    "last = df.iloc[-1, 0]\n",
    "last"
   ]
  },
  {
   "cell_type": "code",
   "execution_count": null,
   "metadata": {},
   "outputs": [],
   "source": [
    "total_change = last / first - 1\n",
    "total_change"
   ]
  },
  {
   "cell_type": "code",
   "execution_count": null,
   "metadata": {},
   "outputs": [],
   "source": [
    "db_s.range(\"H12\").options(transpose = True).value = [first, high, low, last, total_change]"
   ]
  },
  {
   "cell_type": "code",
   "execution_count": null,
   "metadata": {},
   "outputs": [],
   "source": [
    "norm = df.div(df.iloc[0]).mul(100)\n",
    "norm"
   ]
  },
  {
   "cell_type": "code",
   "execution_count": null,
   "metadata": {},
   "outputs": [],
   "source": [
    "chart2 = plt.figure(figsize = (19, 8))\n",
    "norm[symbol].plot(fontsize = 15)\n",
    "norm[benchmark].plot(fontsize = 15)\n",
    "plt.title(symbol + \" vs. \" + benchmark, fontsize = 20)\n",
    "plt.xlabel(\"Date\", fontsize = 15)\n",
    "plt.ylabel(\"Normalized Price (Base 100)\", fontsize = 15)\n",
    "plt.legend(fontsize = 20)\n",
    "plt.show()"
   ]
  },
  {
   "cell_type": "code",
   "execution_count": null,
   "metadata": {},
   "outputs": [],
   "source": [
    "db_s.pictures.add(chart2, name = \"Chart2\", update = True, \n",
    "                   left = db_s.range(\"C21\").left, \n",
    "                   top = db_s.range(\"C21\").top + 10,\n",
    "                   scale = 0.46)"
   ]
  },
  {
   "cell_type": "code",
   "execution_count": null,
   "metadata": {},
   "outputs": [],
   "source": [
    "ret  = df.resample(freq).last().dropna().pct_change().dropna()\n",
    "ret"
   ]
  },
  {
   "cell_type": "code",
   "execution_count": null,
   "metadata": {},
   "outputs": [],
   "source": [
    "chart3 = plt.figure(figsize = (12.5, 10))\n",
    "sns.regplot(data = ret, x = benchmark, y = symbol)\n",
    "plt.title(symbol + \" vs. \" + benchmark, fontsize = 20)\n",
    "plt.xlabel(benchmark + \" Returns\", fontsize = 15)\n",
    "plt.ylabel(symbol + \" Returns\", fontsize = 15)\n",
    "plt.show()"
   ]
  },
  {
   "cell_type": "code",
   "execution_count": null,
   "metadata": {},
   "outputs": [],
   "source": [
    "db_s.pictures.add(chart3, name = \"Chart3\", update = True, \n",
    "                   left = db_s.range(\"C40\").left, \n",
    "                   top = db_s.range(\"C40\").top,\n",
    "                   scale = 0.47)"
   ]
  },
  {
   "cell_type": "code",
   "execution_count": null,
   "metadata": {},
   "outputs": [],
   "source": [
    "model = ols(symbol + \"~\" + benchmark, data = ret)"
   ]
  },
  {
   "cell_type": "code",
   "execution_count": null,
   "metadata": {},
   "outputs": [],
   "source": [
    "results = model.fit()"
   ]
  },
  {
   "cell_type": "code",
   "execution_count": null,
   "metadata": {
    "scrolled": false
   },
   "outputs": [],
   "source": [
    "print(results.summary())"
   ]
  },
  {
   "cell_type": "code",
   "execution_count": null,
   "metadata": {},
   "outputs": [],
   "source": [
    "obs = len(ret)\n",
    "corr_coef = ret.corr().iloc[0,1]\n",
    "beta = results.params[1]\n",
    "r_sq = results.rsquared\n",
    "t_stat = results.tvalues[1]\n",
    "p_value = results.pvalues[1]\n",
    "conf_left = results.conf_int().iloc[1,0]\n",
    "conf_right = results.conf_int().iloc[1,1]\n",
    "interc = results.params[0]"
   ]
  },
  {
   "cell_type": "code",
   "execution_count": null,
   "metadata": {},
   "outputs": [],
   "source": [
    "regr_list = [obs, corr_coef, beta, r_sq, t_stat, p_value, conf_left, conf_right, interc]"
   ]
  },
  {
   "cell_type": "code",
   "execution_count": null,
   "metadata": {},
   "outputs": [],
   "source": [
    "regr_list"
   ]
  },
  {
   "cell_type": "code",
   "execution_count": null,
   "metadata": {},
   "outputs": [],
   "source": [
    "db_s.range(\"K41\").options(transpose = True).value = regr_list"
   ]
  },
  {
   "cell_type": "code",
   "execution_count": null,
   "metadata": {},
   "outputs": [],
   "source": [
    "prices_s.range(\"A1\").expand().clear_contents()\n",
    "prices_s.range(\"A1\").value = df"
   ]
  },
  {
   "cell_type": "code",
   "execution_count": null,
   "metadata": {},
   "outputs": [],
   "source": []
  },
  {
   "cell_type": "markdown",
   "metadata": {},
   "source": [
    "## Running with Run main"
   ]
  },
  {
   "cell_type": "code",
   "execution_count": null,
   "metadata": {},
   "outputs": [],
   "source": [
    "import xlwings as xw\n",
    "import pandas as pd\n",
    "import matplotlib.pyplot as plt\n",
    "from pandas_datareader import data \n",
    "import seaborn as sns\n",
    "from statsmodels.formula.api import ols\n",
    "plt.style.use(\"seaborn\")"
   ]
  },
  {
   "cell_type": "code",
   "execution_count": null,
   "metadata": {},
   "outputs": [],
   "source": [
    "wb = xw.Book(\"Stocks.xlsx\")"
   ]
  },
  {
   "cell_type": "code",
   "execution_count": null,
   "metadata": {},
   "outputs": [],
   "source": [
    "def main():\n",
    "    \n",
    "    #connect\n",
    "    #wb = xw.Book.caller()\n",
    "    \n",
    "    #define sheets\n",
    "    db_s = wb.sheets[0]\n",
    "    prices_s = wb.sheets[1]\n",
    "    \n",
    "    #read values\n",
    "    symbol = db_s.range(\"C7\").value\n",
    "    start = db_s.range(\"F7\").value\n",
    "    end = db_s.range(\"I7\").value\n",
    "    benchmark = db_s.range(\"K20\").value\n",
    "    freq = db_s.range(\"K39\").value\n",
    "    \n",
    "    #load stock data and create df\n",
    "    df = data.DataReader(name = [symbol, benchmark], data_source = \"yahoo\",\n",
    "                         start = start, end = end).Close\n",
    "    df.rename(columns = {benchmark:benchmark.replace(\"^\", \"\")}, inplace = True)\n",
    "    \n",
    "    benchmark = benchmark.replace(\"^\", \"\")\n",
    "    \n",
    "    #create chart \n",
    "    chart = plt.figure(figsize = (19, 8))\n",
    "    df[symbol].plot(fontsize = 15)\n",
    "    plt.title(symbol, fontsize = 20)\n",
    "    plt.xlabel(\"Date\", fontsize = 15)\n",
    "    plt.ylabel(\"Stock Price\", fontsize = 15)\n",
    "    db_s.pictures.add(chart, name = \"Chart\", update = True, \n",
    "                      left = db_s.range(\"C8\").left, \n",
    "                      top = db_s.range(\"C8\").top,\n",
    "                      scale = 0.47)\n",
    "    \n",
    "    #calculate and write metrics\n",
    "    first = df.iloc[0,0]\n",
    "    high = df.iloc[:, 0].max()\n",
    "    low = df.iloc[:, 0].min()\n",
    "    last = df.iloc[-1, 0]\n",
    "    total_change = last / first - 1\n",
    "    db_s.range(\"H12\").options(transpose = True).value = [first, high, low, last, total_change]\n",
    "    \n",
    "    #create chart2\n",
    "    norm = df.div(df.iloc[0]).mul(100)\n",
    "    chart2 = plt.figure(figsize = (19, 8))\n",
    "    norm[symbol].plot(fontsize = 15)\n",
    "    norm[benchmark].plot(fontsize = 15)\n",
    "    plt.title(symbol + \" vs. \" + benchmark, fontsize = 20)\n",
    "    plt.xlabel(\"Date\", fontsize = 15)\n",
    "    plt.ylabel(\"Normalized Price (Base 100)\", fontsize = 15)\n",
    "    plt.legend(fontsize = 20)\n",
    "    db_s.pictures.add(chart2, name = \"Chart2\", update = True, \n",
    "                      left = db_s.range(\"C21\").left, \n",
    "                      top = db_s.range(\"C21\").top + 10,\n",
    "                      scale = 0.46)\n",
    "    \n",
    "    #calculate returns\n",
    "    ret  = df.resample(freq).last().dropna().pct_change().dropna()\n",
    "   \n",
    "    #create chart3\n",
    "    chart3 = plt.figure(figsize = (12.5, 10))\n",
    "    sns.regplot(data = ret, x = benchmark, y = symbol)\n",
    "    plt.title(symbol + \" vs. \" + benchmark, fontsize = 20)\n",
    "    plt.xlabel(benchmark + \" Returns\", fontsize = 15)\n",
    "    plt.ylabel(symbol + \" Returns\", fontsize = 15)\n",
    "    db_s.pictures.add(chart3, name = \"Chart3\", update = True, \n",
    "                      left = db_s.range(\"C40\").left, \n",
    "                      top = db_s.range(\"C40\").top,\n",
    "                      scale = 0.47)\n",
    "    \n",
    "    #Linear Regression\n",
    "    model = ols(symbol + \"~\" + benchmark, data = ret)\n",
    "    results = model.fit()\n",
    "    \n",
    "    #calculate & write Regression Statistics\n",
    "    obs = len(ret)\n",
    "    corr_coef = ret.corr().iloc[0,1]\n",
    "    beta = results.params[1]\n",
    "    r_sq = results.rsquared\n",
    "    t_stat = results.tvalues[1]\n",
    "    p_value = results.pvalues[1]\n",
    "    conf_left = results.conf_int().iloc[1,0]\n",
    "    conf_right = results.conf_int().iloc[1,1]\n",
    "    interc = results.params[0]\n",
    "    \n",
    "    regr_list = [obs, corr_coef, beta, r_sq, t_stat, \n",
    "                 p_value, conf_left, conf_right, interc]\n",
    "    db_s.range(\"K41\").options(transpose = True).value = regr_list\n",
    "    \n",
    "    #write raw data\n",
    "    prices_s.range(\"A1\").expand().clear_contents()\n",
    "    prices_s.range(\"A1\").value = df"
   ]
  },
  {
   "cell_type": "code",
   "execution_count": null,
   "metadata": {},
   "outputs": [],
   "source": [
    "main()"
   ]
  },
  {
   "cell_type": "code",
   "execution_count": null,
   "metadata": {},
   "outputs": [],
   "source": []
  }
 ],
 "metadata": {
  "kernelspec": {
   "display_name": "Python 3",
   "language": "python",
   "name": "python3"
  },
  "language_info": {
   "codemirror_mode": {
    "name": "ipython",
    "version": 3
   },
   "file_extension": ".py",
   "mimetype": "text/x-python",
   "name": "python",
   "nbconvert_exporter": "python",
   "pygments_lexer": "ipython3",
   "version": "3.8.3"
  }
 },
 "nbformat": 4,
 "nbformat_minor": 4
}

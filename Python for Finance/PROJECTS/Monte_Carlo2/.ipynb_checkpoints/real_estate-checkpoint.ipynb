{
 "cells": [
  {
   "cell_type": "markdown",
   "metadata": {},
   "source": [
    "# Real Estate Project - Monte Carlo Simulation (Part 2)"
   ]
  },
  {
   "cell_type": "markdown",
   "metadata": {},
   "source": [
    "## Monte Carlo Simulation with RunPython"
   ]
  },
  {
   "cell_type": "code",
   "execution_count": 1,
   "metadata": {},
   "outputs": [],
   "source": [
    "import xlwings as xw\n",
    "import numpy as np"
   ]
  },
  {
   "cell_type": "code",
   "execution_count": 2,
   "metadata": {},
   "outputs": [],
   "source": [
    "wb = xw.Book(\"real_estate.xlsx\")"
   ]
  },
  {
   "cell_type": "code",
   "execution_count": null,
   "metadata": {},
   "outputs": [],
   "source": [
    "def monte_carlo():\n",
    "    \n",
    "    #wb = xw.Book.caller()\n",
    "    \n",
    "    inp = wb.sheets[0]\n",
    "    calc = wb.sheets[1]\n",
    "    mc = wb.sheets[2]\n",
    "    \n",
    "    sims = int(mc[\"D8\"].value)\n",
    "    \n",
    "    cpi_exp = mc[\"D11\"].value\n",
    "    cpi_std = mc[\"D12\"].value\n",
    "    \n",
    "    ppf_exp = mc[\"D15\"].value\n",
    "    ppf_std = mc[\"D16\"].value\n",
    "    \n",
    "    cost_exp = mc[\"D19\"].value\n",
    "    cost_std = mc[\"D20\"].value\n",
    "    \n",
    "    results = np.empty((sims, 2))\n",
    "    for i in range(sims):\n",
    "        calc[\"B3\"].options(transpose = True).value = np.random.normal(cpi_exp, cpi_std, 10)\n",
    "        inp[\"D25\"].value = np.random.normal(ppf_exp, ppf_std)\n",
    "        calc[\"H3\"].options(transpose = True).value = -np.random.normal(cost_exp, cost_std, 10)\n",
    "        results[i] = inp[\"G24:G25\"].value\n",
    "    \n",
    "    mc[\"I5\"].options(transpose = True).value = np.mean(results, axis = 0)\n",
    "    mc[\"J5\"].options(transpose = True).value = np.median(results, axis = 0)\n",
    "    mc[\"I7\"].value = sum(results[:, 0] < 1) / sims"
   ]
  },
  {
   "cell_type": "code",
   "execution_count": null,
   "metadata": {},
   "outputs": [],
   "source": [
    "monte_carlo()"
   ]
  },
  {
   "cell_type": "code",
   "execution_count": null,
   "metadata": {},
   "outputs": [],
   "source": [
    "def restore():\n",
    "    \n",
    "    #wb = xw.Book.caller()\n",
    "    \n",
    "    calc = wb.sheets[1]\n",
    "    \n",
    "    calc[\"B3:B12\"].formula = \"=Input!$D$20\"\n",
    "    calc[\"H3:H12\"].formula = \"=-Input!$D$40\""
   ]
  },
  {
   "cell_type": "code",
   "execution_count": null,
   "metadata": {},
   "outputs": [],
   "source": [
    "restore()"
   ]
  },
  {
   "cell_type": "code",
   "execution_count": null,
   "metadata": {},
   "outputs": [],
   "source": []
  }
 ],
 "metadata": {
  "kernelspec": {
   "display_name": "Python 3",
   "language": "python",
   "name": "python3"
  },
  "language_info": {
   "codemirror_mode": {
    "name": "ipython",
    "version": 3
   },
   "file_extension": ".py",
   "mimetype": "text/x-python",
   "name": "python",
   "nbconvert_exporter": "python",
   "pygments_lexer": "ipython3",
   "version": "3.8.3"
  }
 },
 "nbformat": 4,
 "nbformat_minor": 4
}
